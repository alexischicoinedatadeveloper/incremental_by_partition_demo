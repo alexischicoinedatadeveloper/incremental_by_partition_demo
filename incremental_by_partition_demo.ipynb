{
 "metadata": {
  "kernelspec": {
   "display_name": "Streamlit Notebook",
   "name": "streamlit"
  }
 },
 "nbformat_minor": 5,
 "nbformat": 4,
 "cells": [
  {
   "cell_type": "markdown",
   "id": "9f6f015c-5098-4537-b605-86f4d899cb98",
   "metadata": {
    "name": "cell2",
    "collapsed": false
   },
   "source": "# Incremental update by partition"
  },
  {
   "cell_type": "markdown",
   "id": "95c54963-546f-4f4f-b134-50178a4f7190",
   "metadata": {
    "name": "cell3",
    "collapsed": false
   },
   "source": "## Get a session"
  },
  {
   "cell_type": "code",
   "id": "3775908f-ca36-4846-8f38-5adca39217f2",
   "metadata": {
    "language": "python",
    "name": "cell1"
   },
   "source": "# Import python packages\nimport streamlit as st\nimport pandas as pd\n\n# We can also use Snowpark for our analyses!\nfrom snowflake.snowpark.context import get_active_session\nsession = get_active_session()\n",
   "execution_count": null,
   "outputs": []
  },
  {
   "cell_type": "markdown",
   "id": "a3739ab9-4fe9-4de4-952e-c9114c0051c8",
   "metadata": {
    "name": "cell15",
    "collapsed": false
   },
   "source": "## Create a table with data to work with"
  },
  {
   "cell_type": "code",
   "id": "66561d34-d4f4-47a1-8a02-c4a926d842d5",
   "metadata": {
    "language": "python",
    "name": "cell4"
   },
   "outputs": [],
   "source": "session.create_dataframe([{\n    \"store\": store,\n    \"transaction\" : transaction,\n    \"day\": day\n}\n    for store in [\"MikeyD\", \"BobPants\", \"SuperM\"]\n    for transaction in range (5)\n    for day in [\"2024-06-01\", \"2024-06-02\"]\n]\n).write.save_as_table(\"source\", mode=\"overwrite\")",
   "execution_count": null
  },
  {
   "cell_type": "markdown",
   "id": "a8b5be7b-128c-4c4b-8aa5-24f2641efbed",
   "metadata": {
    "name": "cell19",
    "collapsed": false
   },
   "source": "## Set change tracking true if we want to use timestamps instead of a stream"
  },
  {
   "cell_type": "code",
   "id": "c7c66d9b-4223-4b66-8da0-cd8d69913ccf",
   "metadata": {
    "language": "sql",
    "name": "cell6"
   },
   "outputs": [],
   "source": "alter table source SET CHANGE_TRACKING = TRUE;",
   "execution_count": null
  },
  {
   "cell_type": "markdown",
   "id": "8c767abf-6a15-4820-a224-00c9436f6496",
   "metadata": {
    "name": "cell20",
    "collapsed": false
   },
   "source": "## Create a stream for simplicity in the demo"
  },
  {
   "cell_type": "code",
   "id": "7f4bd578-5f79-44a2-9788-259c2cb0da40",
   "metadata": {
    "language": "sql",
    "name": "cell10"
   },
   "outputs": [],
   "source": "create or replace  stream source_stream on table source SHOW_INITIAL_ROWS = TRUE APPEND_ONLY = False",
   "execution_count": null
  },
  {
   "cell_type": "markdown",
   "id": "5bee78c3-eb99-4834-a098-a1720eba42d3",
   "metadata": {
    "name": "cell21",
    "collapsed": false
   },
   "source": "## Initialize the aggregation"
  },
  {
   "cell_type": "code",
   "id": "cc4dcda1-be0a-4cc0-90b3-ccea34266159",
   "metadata": {
    "language": "sql",
    "name": "cell7"
   },
   "outputs": [],
   "source": "create or replace table aggregation as \nselect store, day, count(transaction) as nb_transactions from source_stream group by all;",
   "execution_count": null
  },
  {
   "cell_type": "markdown",
   "id": "96a5e518-0588-4628-a4c6-aa2b7e408a74",
   "metadata": {
    "name": "cell22",
    "collapsed": false
   },
   "source": "## Look at the data"
  },
  {
   "cell_type": "code",
   "id": "9d503359-17d3-464a-ae65-ea848785961a",
   "metadata": {
    "language": "sql",
    "name": "cell8"
   },
   "outputs": [],
   "source": "select * from aggregation",
   "execution_count": null
  },
  {
   "cell_type": "markdown",
   "id": "76f7922a-f415-4984-9a19-552d4b86c843",
   "metadata": {
    "name": "cell23",
    "collapsed": false
   },
   "source": "## Delete data for the demo"
  },
  {
   "cell_type": "code",
   "id": "0fc9187e-2d88-48b4-ab83-ed49879bb4de",
   "metadata": {
    "language": "sql",
    "name": "cell9"
   },
   "outputs": [],
   "source": "delete from source where transaction = 2 and store = 'MikeyD'",
   "execution_count": null
  },
  {
   "cell_type": "markdown",
   "id": "800ebfcc-6ddb-4a10-a04e-6133afec6410",
   "metadata": {
    "name": "cell24",
    "collapsed": false
   },
   "source": "## Show the change feed using the stream\nNote that selecting doesn't advance the stream so the changed data will still be available."
  },
  {
   "cell_type": "code",
   "id": "6e034b1b-502a-4f64-802c-efe113c64b68",
   "metadata": {
    "language": "sql",
    "name": "cell5"
   },
   "outputs": [],
   "source": "select * from source_stream",
   "execution_count": null
  },
  {
   "cell_type": "markdown",
   "id": "e3f66f25-23cd-435e-b45c-7eb9a7e8289d",
   "metadata": {
    "name": "cell25",
    "collapsed": false
   },
   "source": "## Identify the partitions to recalculate"
  },
  {
   "cell_type": "code",
   "id": "b820f36e-86f8-4afc-9568-5ff4b3492d84",
   "metadata": {
    "language": "sql",
    "name": "cell11"
   },
   "outputs": [],
   "source": "create table changed_store_days as \nselect distinct store, day from source_stream",
   "execution_count": null
  },
  {
   "cell_type": "markdown",
   "id": "70b807f1-e370-4499-af25-843152a71b09",
   "metadata": {
    "name": "cell26",
    "collapsed": false
   },
   "source": "## The stream advanced"
  },
  {
   "cell_type": "code",
   "id": "fc7d82c7-8619-4e2a-a6d8-5100ac9fcec7",
   "metadata": {
    "language": "sql",
    "name": "cell12"
   },
   "outputs": [],
   "source": "select * from source_stream",
   "execution_count": null
  },
  {
   "cell_type": "markdown",
   "id": "9fa1f0d2-47e8-4090-8c1e-603e5939833c",
   "metadata": {
    "name": "cell27",
    "collapsed": false
   },
   "source": "## Do the aggregation for the partitions that changed"
  },
  {
   "cell_type": "code",
   "id": "181ae27d-c692-4da2-b0fd-b5c632d43a42",
   "metadata": {
    "language": "sql",
    "name": "cell13"
   },
   "outputs": [],
   "source": "create or replace table staging_aggregation as \nselect store, day, count(transaction) as nb_transactions from source\nwhere exists (\nselect 1 from changed_store_days where source.store = changed_store_days.store and source.day = changed_store_days.day\n)\n\ngroup by all;",
   "execution_count": null
  },
  {
   "cell_type": "markdown",
   "id": "b0b71f57-a055-479d-9ed8-27070430a224",
   "metadata": {
    "name": "cell28",
    "collapsed": false
   },
   "source": "## Show the new data for the changed partitions"
  },
  {
   "cell_type": "code",
   "id": "dc91ec1c-e2a6-4b7b-9b66-26d1692e1cc7",
   "metadata": {
    "language": "sql",
    "name": "cell17"
   },
   "outputs": [],
   "source": "select * from staging_aggregation",
   "execution_count": null
  },
  {
   "cell_type": "markdown",
   "id": "1e9cd8a8-95ec-455f-8b27-62e79d8a7c03",
   "metadata": {
    "name": "cell29",
    "collapsed": false
   },
   "source": "## Update the aggregations by overwriting the partitions with a delete + insert in a transacton"
  },
  {
   "cell_type": "code",
   "id": "156647d8-fa66-4941-af51-5b7e09a3a22f",
   "metadata": {
    "language": "sql",
    "name": "cell14"
   },
   "outputs": [],
   "source": "begin;\ndelete from aggregation using (select distinct store, day from staging_aggregation) as logical_partitions_to_overwrite\nwhere aggregation.store = logical_partitions_to_overwrite.store\nand aggregation.day = logical_partitions_to_overwrite.day;\ninsert into aggregation select * from staging_aggregation;\ncommit;",
   "execution_count": null
  },
  {
   "cell_type": "markdown",
   "id": "1e448717-1125-45b6-80bb-8756c97525ec",
   "metadata": {
    "name": "cell30",
    "collapsed": false
   },
   "source": "## The resulting table is the same as doing the aggregation from scratch"
  },
  {
   "cell_type": "code",
   "id": "9d0cfcfd-b5da-4f3b-b343-5f64e51bd768",
   "metadata": {
    "language": "sql",
    "name": "cell16"
   },
   "outputs": [],
   "source": "select * from aggregation order by store, day",
   "execution_count": null
  },
  {
   "cell_type": "code",
   "id": "9022a33a-b340-4506-9c11-1769155b114e",
   "metadata": {
    "language": "sql",
    "name": "cell18"
   },
   "outputs": [],
   "source": "select store, day, count(transaction) as nb_transactions from source group by all order by store, day;",
   "execution_count": null
  }
 ]
}