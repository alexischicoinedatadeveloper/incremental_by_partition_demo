{
 "metadata": {
  "kernelspec": {
   "display_name": "Streamlit Notebook",
   "name": "streamlit"
  }
 },
 "nbformat_minor": 5,
 "nbformat": 4,
 "cells": [
  {
   "cell_type": "markdown",
   "id": "69bf4c95-377b-4c64-bf1a-db0226112683",
   "metadata": {
    "name": "cell4",
    "collapsed": false
   },
   "source": "# Write Audit Publish"
  },
  {
   "cell_type": "code",
   "id": "151eaffa-82b7-42c3-990c-e29e1877e4cb",
   "metadata": {
    "language": "python",
    "name": "cell8"
   },
   "outputs": [],
   "source": "# Import python packages\nimport streamlit as st\nimport pandas as pd\n\n# We can also use Snowpark for our analyses!\nfrom snowflake.snowpark.context import get_active_session\nsession = get_active_session()",
   "execution_count": null
  },
  {
   "cell_type": "markdown",
   "id": "ff32b298-05ca-4bba-aaa6-9a81dc45194c",
   "metadata": {
    "name": "cell2",
    "collapsed": false
   },
   "source": "## Create a Table with initial data"
  },
  {
   "cell_type": "code",
   "id": "d2aec45d-49c6-44fd-ad38-7995ca7b2e24",
   "metadata": {
    "language": "sql",
    "name": "cell1"
   },
   "outputs": [],
   "source": "create or replace schema wap;\n\ncreate or replace table wap_data as \nselect 1 as col_a;",
   "execution_count": null
  },
  {
   "cell_type": "markdown",
   "id": "f0575714-f967-4953-bd04-60bb2d3d6ac8",
   "metadata": {
    "name": "cell3",
    "collapsed": false
   },
   "source": "## Validate the table"
  },
  {
   "cell_type": "code",
   "id": "422155b3-f95a-47f5-a834-6d7d27f3122f",
   "metadata": {
    "language": "sql",
    "name": "cell5"
   },
   "outputs": [],
   "source": "select count(1) = 0 from wap_data where col_a is null;",
   "execution_count": null
  },
  {
   "cell_type": "markdown",
   "id": "b5c01f07-42e5-40f2-a6bc-f5d98bb28a21",
   "metadata": {
    "name": "cell6",
    "collapsed": false
   },
   "source": "## Publish the data as a view"
  },
  {
   "cell_type": "code",
   "id": "c66f5381-cced-4d95-bfc2-379244328efa",
   "metadata": {
    "language": "python",
    "name": "cell9"
   },
   "outputs": [],
   "source": "def publish_correct_data():\n    session.use_schema(\"WAP\")\n    validation_time = session.sql(\"select current_timestamp()\").first()[0]\n    validation_passes = (session.sql(f\"select count(1) = 0 from wap_data at (timestamp => to_timestamp_tz('{validation_time}')) where col_a is null\")\n                         .first()[0])\n    if validation_passes:\n        session.sql(f\"\"\"\n        create or replace view wap_published as select * from wap_data at (timestamp => to_timestamp_tz('{validation_time}'))\n        \"\"\").first()",
   "execution_count": null
  },
  {
   "cell_type": "code",
   "id": "a035adcd-124e-4d89-b6ff-20766bc33509",
   "metadata": {
    "language": "python",
    "name": "cell12"
   },
   "outputs": [],
   "source": "publish_correct_data()",
   "execution_count": null
  },
  {
   "cell_type": "code",
   "id": "63b71474-fcb1-47e2-90bf-91c43bda48a1",
   "metadata": {
    "language": "sql",
    "name": "cell13"
   },
   "outputs": [],
   "source": "select * from wap_data",
   "execution_count": null
  },
  {
   "cell_type": "code",
   "id": "c7bc98bd-0d9e-4f5f-8bc9-b1383273d54b",
   "metadata": {
    "language": "sql",
    "name": "cell11"
   },
   "outputs": [],
   "source": "select * from wap_published",
   "execution_count": null
  },
  {
   "cell_type": "markdown",
   "id": "1fb7f676-2395-4ccd-a147-90ec6a82b768",
   "metadata": {
    "name": "cell14",
    "collapsed": false
   },
   "source": "## Insert some bad data"
  },
  {
   "cell_type": "code",
   "id": "4edb06e7-b80d-4f8d-8724-a1fb3e7aafd7",
   "metadata": {
    "language": "sql",
    "name": "cell15"
   },
   "outputs": [],
   "source": "insert into wap_data select to_number(null) as col_a",
   "execution_count": null
  },
  {
   "cell_type": "markdown",
   "id": "59079a4b-966b-4c14-a023-21f4a354ef59",
   "metadata": {
    "name": "cell17",
    "collapsed": false
   },
   "source": "## Attempt publishing the view after the table modification"
  },
  {
   "cell_type": "code",
   "id": "08e1b0df-fdd3-473a-92a0-e375848550ec",
   "metadata": {
    "language": "python",
    "name": "cell18"
   },
   "outputs": [],
   "source": "publish_correct_data()",
   "execution_count": null
  },
  {
   "cell_type": "code",
   "id": "29681760-2f69-4692-a700-099f5d32be3a",
   "metadata": {
    "language": "sql",
    "name": "cell19"
   },
   "outputs": [],
   "source": "select * from wap_published",
   "execution_count": null
  },
  {
   "cell_type": "code",
   "id": "6c873e89-61ee-45e2-bd65-4e665fb4b9ff",
   "metadata": {
    "language": "sql",
    "name": "cell20"
   },
   "outputs": [],
   "source": "select * from wap_data",
   "execution_count": null
  }
 ]
}